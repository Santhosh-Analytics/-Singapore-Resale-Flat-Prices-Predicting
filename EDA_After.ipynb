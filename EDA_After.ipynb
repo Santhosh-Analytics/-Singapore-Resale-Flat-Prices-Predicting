{
 "cells": [
  {
   "cell_type": "markdown",
   "metadata": {},
   "source": [
    "# <b> <div style='padding:25px;background-color:#9B2335;color:white;border-radius:4px;font-size:100%;text-align: center'>Singapore  Resale Flat Prices Prediction<br> </div>"
   ]
  },
  {
   "cell_type": "markdown",
   "metadata": {},
   "source": [
    "## <p style=\"color:Khaki;\"> Importing required libraries</p>"
   ]
  },
  {
   "cell_type": "code",
   "execution_count": 1,
   "metadata": {},
   "outputs": [],
   "source": [
    "import pandas as pd\n",
    "pd.set_option(\"display.precision\", 4)\n",
    "pd.set_option('display.float_format', '{:.4f}'.format)\n",
    "\n",
    "\n",
    "import seaborn as sns\n",
    "import matplotlib.pyplot as plt\n",
    "import numpy as np\n",
    "import math\n",
    "from scipy.stats import pearsonr,kstest, norm, skew,kurtosis, boxcox\n",
    "from statsmodels.formula.api import ols\n",
    "import statsmodels.api as sm\n",
    "import scipy.stats as stats\n",
    "from wordcloud import WordCloud, STOPWORDS\n",
    "from collections import Counter\n",
    "import pickle\n",
    "\n",
    "sns.set_theme(context='notebook', style='white', palette='dark', font='sans-serif', font_scale=1, color_codes=True, rc=None)\n",
    "sns.set_style({'axes.facecolor': 'white','axes.edgecolor': 'white'})\n",
    "\n",
    "color_good = '\\033[32m'   # Dark Green for near-zero skew\n",
    "color_okay = '\\033[92m'   # Light Green for slightly positive or slightly negative skew\n",
    "color_bad = '\\033[91m'    # Maroon for significant skew\n",
    "color_neutral = '\\033[0m' # Reset color\n"
   ]
  },
  {
   "cell_type": "markdown",
   "metadata": {},
   "source": [
    "---\n",
    "title: \"EDA Before Handling Outlier & Skewness\"\n",
    "author: \"Santhoh Kumar\"\n",
    "format:\n",
    "  html:\n",
    "    toc: true\n",
    "    html-math-method: katex\n",
    "    css: styles.css\n",
    "---\n"
   ]
  },
  {
   "cell_type": "markdown",
   "metadata": {},
   "source": [
    "## <span style=\"color:Khaki;\">Reading Transformed Dataset"
   ]
  },
  {
   "cell_type": "code",
   "execution_count": 2,
   "metadata": {},
   "outputs": [],
   "source": [
    "df1=pd.read_feather('data_trans.feather')"
   ]
  },
  {
   "cell_type": "code",
   "execution_count": 3,
   "metadata": {},
   "outputs": [
    {
     "data": {
      "text/html": [
       "<div>\n",
       "<style scoped>\n",
       "    .dataframe tbody tr th:only-of-type {\n",
       "        vertical-align: middle;\n",
       "    }\n",
       "\n",
       "    .dataframe tbody tr th {\n",
       "        vertical-align: top;\n",
       "    }\n",
       "\n",
       "    .dataframe thead th {\n",
       "        text-align: right;\n",
       "    }\n",
       "</style>\n",
       "<table border=\"1\" class=\"dataframe\">\n",
       "  <thead>\n",
       "    <tr style=\"text-align: right;\">\n",
       "      <th></th>\n",
       "      <th>month</th>\n",
       "      <th>town</th>\n",
       "      <th>flat_type</th>\n",
       "      <th>floor_area_sqm</th>\n",
       "      <th>flat_model</th>\n",
       "      <th>lease_commence_date</th>\n",
       "      <th>resale_price</th>\n",
       "      <th>floors</th>\n",
       "      <th>floor_no</th>\n",
       "      <th>year</th>\n",
       "      <th>full_address</th>\n",
       "      <th>price_per_sqm</th>\n",
       "      <th>remaining_lease_year</th>\n",
       "      <th>resale_price_boxcox</th>\n",
       "      <th>floor_area_boxcox</th>\n",
       "    </tr>\n",
       "  </thead>\n",
       "  <tbody>\n",
       "    <tr>\n",
       "      <th>223621</th>\n",
       "      <td>12</td>\n",
       "      <td>Jurong West</td>\n",
       "      <td>4 Room</td>\n",
       "      <td>103.0000</td>\n",
       "      <td>Model A</td>\n",
       "      <td>1988</td>\n",
       "      <td>193000.0000</td>\n",
       "      <td>3</td>\n",
       "      <td>9</td>\n",
       "      <td>2006</td>\n",
       "      <td>917 Jurong West St 91 Jurong West</td>\n",
       "      <td>1873.7864</td>\n",
       "      <td>81</td>\n",
       "      <td>471.9889</td>\n",
       "      <td>11.2966</td>\n",
       "    </tr>\n",
       "    <tr>\n",
       "      <th>42695</th>\n",
       "      <td>3</td>\n",
       "      <td>Hougang</td>\n",
       "      <td>Executive</td>\n",
       "      <td>148.0000</td>\n",
       "      <td>Maisonette</td>\n",
       "      <td>1986</td>\n",
       "      <td>280000.0000</td>\n",
       "      <td>3</td>\n",
       "      <td>9</td>\n",
       "      <td>1993</td>\n",
       "      <td>712 Hougang Ave 2 Hougang</td>\n",
       "      <td>1891.8919</td>\n",
       "      <td>92</td>\n",
       "      <td>556.0573</td>\n",
       "      <td>13.1440</td>\n",
       "    </tr>\n",
       "    <tr>\n",
       "      <th>73978</th>\n",
       "      <td>1</td>\n",
       "      <td>Choa Chu Kang</td>\n",
       "      <td>5 Room</td>\n",
       "      <td>135.0000</td>\n",
       "      <td>Model A</td>\n",
       "      <td>1996</td>\n",
       "      <td>351800.0000</td>\n",
       "      <td>3</td>\n",
       "      <td>12</td>\n",
       "      <td>2002</td>\n",
       "      <td>612 Choa Chu Kang St 62 Choa Chu Kang</td>\n",
       "      <td>2605.9259</td>\n",
       "      <td>93</td>\n",
       "      <td>614.8474</td>\n",
       "      <td>12.6534</td>\n",
       "    </tr>\n",
       "    <tr>\n",
       "      <th>23783</th>\n",
       "      <td>11</td>\n",
       "      <td>Jurong West</td>\n",
       "      <td>4 Room</td>\n",
       "      <td>104.0000</td>\n",
       "      <td>Model A</td>\n",
       "      <td>1984</td>\n",
       "      <td>100000.0000</td>\n",
       "      <td>3</td>\n",
       "      <td>9</td>\n",
       "      <td>1991</td>\n",
       "      <td>516 Jurong West St 52 Jurong West</td>\n",
       "      <td>961.5385</td>\n",
       "      <td>92</td>\n",
       "      <td>353.1796</td>\n",
       "      <td>11.3429</td>\n",
       "    </tr>\n",
       "    <tr>\n",
       "      <th>94122</th>\n",
       "      <td>6</td>\n",
       "      <td>Jurong West</td>\n",
       "      <td>3 Room</td>\n",
       "      <td>67.0000</td>\n",
       "      <td>New Generation</td>\n",
       "      <td>1983</td>\n",
       "      <td>107000.0000</td>\n",
       "      <td>3</td>\n",
       "      <td>3</td>\n",
       "      <td>1995</td>\n",
       "      <td>535 Jurong West St 52 Jurong West</td>\n",
       "      <td>1597.0149</td>\n",
       "      <td>87</td>\n",
       "      <td>363.8850</td>\n",
       "      <td>9.3850</td>\n",
       "    </tr>\n",
       "    <tr>\n",
       "      <th>61077</th>\n",
       "      <td>2</td>\n",
       "      <td>Bedok</td>\n",
       "      <td>5 Room</td>\n",
       "      <td>121.0000</td>\n",
       "      <td>Improved</td>\n",
       "      <td>1980</td>\n",
       "      <td>282000.0000</td>\n",
       "      <td>3</td>\n",
       "      <td>9</td>\n",
       "      <td>1994</td>\n",
       "      <td>715 Bedok Reservoir Rd Bedok</td>\n",
       "      <td>2330.5785</td>\n",
       "      <td>85</td>\n",
       "      <td>557.8029</td>\n",
       "      <td>12.0891</td>\n",
       "    </tr>\n",
       "    <tr>\n",
       "      <th>19861</th>\n",
       "      <td>8</td>\n",
       "      <td>Bukit Batok</td>\n",
       "      <td>4 Room</td>\n",
       "      <td>90.0000</td>\n",
       "      <td>Simplified</td>\n",
       "      <td>1986</td>\n",
       "      <td>180000.0000</td>\n",
       "      <td>3</td>\n",
       "      <td>3</td>\n",
       "      <td>2000</td>\n",
       "      <td>309 Bt Batok St 31 Bukit Batok</td>\n",
       "      <td>2000.0000</td>\n",
       "      <td>85</td>\n",
       "      <td>457.7041</td>\n",
       "      <td>10.6659</td>\n",
       "    </tr>\n",
       "    <tr>\n",
       "      <th>14245</th>\n",
       "      <td>10</td>\n",
       "      <td>Punggol</td>\n",
       "      <td>5 Room</td>\n",
       "      <td>110.0000</td>\n",
       "      <td>Improved</td>\n",
       "      <td>2003</td>\n",
       "      <td>470000.0000</td>\n",
       "      <td>3</td>\n",
       "      <td>12</td>\n",
       "      <td>2015</td>\n",
       "      <td>199C Punggol Field Punggol</td>\n",
       "      <td>4272.7273</td>\n",
       "      <td>87</td>\n",
       "      <td>698.4440</td>\n",
       "      <td>11.6148</td>\n",
       "    </tr>\n",
       "    <tr>\n",
       "      <th>12092</th>\n",
       "      <td>9</td>\n",
       "      <td>Clementi</td>\n",
       "      <td>3 Room</td>\n",
       "      <td>67.0000</td>\n",
       "      <td>New Generation</td>\n",
       "      <td>1980</td>\n",
       "      <td>339000.0000</td>\n",
       "      <td>3</td>\n",
       "      <td>6</td>\n",
       "      <td>2015</td>\n",
       "      <td>308 Clementi Ave 4 Clementi</td>\n",
       "      <td>5059.7015</td>\n",
       "      <td>64</td>\n",
       "      <td>604.8975</td>\n",
       "      <td>9.3850</td>\n",
       "    </tr>\n",
       "    <tr>\n",
       "      <th>35977</th>\n",
       "      <td>1</td>\n",
       "      <td>Hougang</td>\n",
       "      <td>3 Room</td>\n",
       "      <td>73.0000</td>\n",
       "      <td>New Generation</td>\n",
       "      <td>1978</td>\n",
       "      <td>148000.0000</td>\n",
       "      <td>3</td>\n",
       "      <td>3</td>\n",
       "      <td>2001</td>\n",
       "      <td>21 Hougang Ave 3 Hougang</td>\n",
       "      <td>2027.3973</td>\n",
       "      <td>76</td>\n",
       "      <td>419.8637</td>\n",
       "      <td>9.7438</td>\n",
       "    </tr>\n",
       "  </tbody>\n",
       "</table>\n",
       "</div>"
      ],
      "text/plain": [
       "       month           town  flat_type  floor_area_sqm      flat_model  \\\n",
       "223621    12    Jurong West     4 Room        103.0000         Model A   \n",
       "42695      3        Hougang  Executive        148.0000      Maisonette   \n",
       "73978      1  Choa Chu Kang     5 Room        135.0000         Model A   \n",
       "23783     11    Jurong West     4 Room        104.0000         Model A   \n",
       "94122      6    Jurong West     3 Room         67.0000  New Generation   \n",
       "61077      2          Bedok     5 Room        121.0000        Improved   \n",
       "19861      8    Bukit Batok     4 Room         90.0000      Simplified   \n",
       "14245     10        Punggol     5 Room        110.0000        Improved   \n",
       "12092      9       Clementi     3 Room         67.0000  New Generation   \n",
       "35977      1        Hougang     3 Room         73.0000  New Generation   \n",
       "\n",
       "       lease_commence_date  resale_price floors  floor_no  year  \\\n",
       "223621                1988   193000.0000      3         9  2006   \n",
       "42695                 1986   280000.0000      3         9  1993   \n",
       "73978                 1996   351800.0000      3        12  2002   \n",
       "23783                 1984   100000.0000      3         9  1991   \n",
       "94122                 1983   107000.0000      3         3  1995   \n",
       "61077                 1980   282000.0000      3         9  1994   \n",
       "19861                 1986   180000.0000      3         3  2000   \n",
       "14245                 2003   470000.0000      3        12  2015   \n",
       "12092                 1980   339000.0000      3         6  2015   \n",
       "35977                 1978   148000.0000      3         3  2001   \n",
       "\n",
       "                                 full_address  price_per_sqm  \\\n",
       "223621      917 Jurong West St 91 Jurong West      1873.7864   \n",
       "42695               712 Hougang Ave 2 Hougang      1891.8919   \n",
       "73978   612 Choa Chu Kang St 62 Choa Chu Kang      2605.9259   \n",
       "23783       516 Jurong West St 52 Jurong West       961.5385   \n",
       "94122       535 Jurong West St 52 Jurong West      1597.0149   \n",
       "61077            715 Bedok Reservoir Rd Bedok      2330.5785   \n",
       "19861          309 Bt Batok St 31 Bukit Batok      2000.0000   \n",
       "14245              199C Punggol Field Punggol      4272.7273   \n",
       "12092             308 Clementi Ave 4 Clementi      5059.7015   \n",
       "35977                21 Hougang Ave 3 Hougang      2027.3973   \n",
       "\n",
       "       remaining_lease_year  resale_price_boxcox  floor_area_boxcox  \n",
       "223621                   81             471.9889            11.2966  \n",
       "42695                    92             556.0573            13.1440  \n",
       "73978                    93             614.8474            12.6534  \n",
       "23783                    92             353.1796            11.3429  \n",
       "94122                    87             363.8850             9.3850  \n",
       "61077                    85             557.8029            12.0891  \n",
       "19861                    85             457.7041            10.6659  \n",
       "14245                    87             698.4440            11.6148  \n",
       "12092                    64             604.8975             9.3850  \n",
       "35977                    76             419.8637             9.7438  "
      ]
     },
     "execution_count": 3,
     "metadata": {},
     "output_type": "execute_result"
    }
   ],
   "source": [
    "df1.sample(10)"
   ]
  },
  {
   "cell_type": "code",
   "execution_count": 4,
   "metadata": {},
   "outputs": [
    {
     "name": "stdout",
     "output_type": "stream",
     "text": [
      "<class 'pandas.core.frame.DataFrame'>\n",
      "Index: 927465 entries, 0 to 181261\n",
      "Data columns (total 15 columns):\n",
      " #   Column                Non-Null Count   Dtype   \n",
      "---  ------                --------------   -----   \n",
      " 0   month                 927465 non-null  category\n",
      " 1   town                  927465 non-null  category\n",
      " 2   flat_type             927465 non-null  category\n",
      " 3   floor_area_sqm        927465 non-null  float32 \n",
      " 4   flat_model            927465 non-null  category\n",
      " 5   lease_commence_date   927465 non-null  category\n",
      " 6   resale_price          927465 non-null  float64 \n",
      " 7   floors                927465 non-null  category\n",
      " 8   floor_no              927465 non-null  int8    \n",
      " 9   year                  927465 non-null  category\n",
      " 10  full_address          927465 non-null  category\n",
      " 11  price_per_sqm         927465 non-null  float64 \n",
      " 12  remaining_lease_year  927465 non-null  category\n",
      " 13  resale_price_boxcox   927465 non-null  float64 \n",
      " 14  floor_area_boxcox     927465 non-null  float32 \n",
      "dtypes: category(9), float32(2), float64(3), int8(1)\n",
      "memory usage: 45.4 MB\n"
     ]
    }
   ],
   "source": [
    "df1.info()"
   ]
  },
  {
   "cell_type": "markdown",
   "metadata": {},
   "source": [
    "## <span style=\"color:Khaki;\">Defining variable type"
   ]
  },
  {
   "cell_type": "code",
   "execution_count": 5,
   "metadata": {},
   "outputs": [],
   "source": [
    "continuous = ['floor_area_sqm', 'resale_price','resale_price_boxcox','floor_area_boxcox']\n",
    "\n",
    "categorical = ['year','month' ,'town', 'flat_type','flat_model','lease_commence_date','floors','floor_no','remaining_lease_year']"
   ]
  },
  {
   "cell_type": "markdown",
   "metadata": {},
   "source": [
    "## <p Style=\"color:Khaki\"> Exploratory Data Analysis. After Handling Skewness and Outliers"
   ]
  },
  {
   "cell_type": "code",
   "execution_count": null,
   "metadata": {},
   "outputs": [],
   "source": [
    "skewed_col = []\n",
    "\n",
    "\n",
    "for i in continuous:\n",
    "    univar_num(df1,i) \n",
    "    skew_val = df1[i].skew()\n",
    "    kurt=df1[i].kurtosis()\n",
    "    kurt_color = kurtosis_color(kurt)\n",
    "    color = skewness_color(skew_val)\n",
    "    skewed_col.append(i)\n",
    "\n",
    "    print(f\"\\n\\n{color}Skew for {i} is {skew_val:.4f}{color_neutral}\")\n",
    "    print(f\"{color}Kurtosis for {i} is {kurt:.4f}{color_neutral}\\n\\n\")"
   ]
  },
  {
   "cell_type": "markdown",
   "metadata": {},
   "source": [
    "<span style=\"color: Chartreuse;\">   &#9784; &nbsp;</span> <span style=\"color: Tomato;font-size: 130%\"> <u>**Floor Area SQM - Observations**</u></span><br><br><span Style=\"color: DodgerBlue;font-size: 120%\">&nbsp;&nbsp;&nbsp;&nbsp;&nbsp;&nbsp;&nbsp;&nbsp; &#9830; </span> <span Style=\"color: white;font-size: 110%\">After the Box-Cox transformation we can see a significant reduction in the Skewness (almost 96%). </span><br>\n",
    "\n",
    "<span Style=\"color: DodgerBlue;font-size: 120%\">&nbsp;&nbsp;&nbsp;&nbsp;&nbsp;&nbsp;&nbsp;&nbsp; &#9830; </span> <span Style=\"color: white;font-size: 110%\">The Box-Cox transformation slightly increased the negative kurtosis, indicating that the tails became even lighter. This might not be a significant concern. We will experiment the model's result and address this if we face any issues.  </span><br>"
   ]
  },
  {
   "cell_type": "markdown",
   "metadata": {},
   "source": [
    "<span style=\"color: Chartreuse;\">   &#9784; &nbsp;</span> <span style=\"color: Tomato;font-size: 130%\"> <u>**Resale Price - Observations**</u></span><br><br><span Style=\"color: DodgerBlue;font-size: 120%\">&nbsp;&nbsp;&nbsp;&nbsp;&nbsp;&nbsp;&nbsp;&nbsp; &#9830;  </span> <span Style=\"color: white;font-size: 110%\">The Box-Cox transformation appears to have been highly effective for Resale Price.</span><br>"
   ]
  },
  {
   "cell_type": "markdown",
   "metadata": {},
   "source": [
    "### <span style=\"color:Khaki;\">Outliers based on the Categorical Features:"
   ]
  },
  {
   "cell_type": "code",
   "execution_count": null,
   "metadata": {},
   "outputs": [],
   "source": [
    "for i in categorical:\n",
    "    plt.figure(figsize=(16,5))\n",
    "    sns.boxplot(data=df1,x=i,y=\"resale_price_boxcox\",hue=i,palette='dark',legend=False)\n",
    "    plt.xticks(rotation=25)\n",
    "    plt.title(f'{i.title()} vs Transformed Resale Price')\n",
    "    plt.tight_layout()\n",
    "    plt.show()"
   ]
  },
  {
   "cell_type": "code",
   "execution_count": null,
   "metadata": {},
   "outputs": [],
   "source": [
    "for i in categorical:\n",
    "    plt.figure(figsize=(16,6))\n",
    "    sns.boxplot(data=df1,x=i,y=\"floor_area_boxcox\",hue=i,palette='dark',legend=False,)\n",
    "    plt.xticks(rotation=25)\n",
    "    plt.title(f'{i.title()} vs Floor Area SQM')\n",
    "    plt.tight_layout()\n",
    "    plt.show()"
   ]
  },
  {
   "cell_type": "markdown",
   "metadata": {},
   "source": [
    "<span style=\"color: Chartreuse;font-size:150%\">   &#9784; </span> <span style=\"color: Tomato;font-size: 120%;background-color:\"> **After data transformation we can see a distribution movement that spread outliers in the lower side as well as upper side. All of these data points are not an error it shows the higher floor area sqm, floor level, flat type and model that influencing the resae price.**</span>"
   ]
  },
  {
   "cell_type": "code",
   "execution_count": null,
   "metadata": {},
   "outputs": [],
   "source": [
    "for cat_var in categorical:\n",
    "    analyze_categorical_relationship(df1, \"resale_price_boxcox\", cat_var)"
   ]
  },
  {
   "cell_type": "code",
   "execution_count": null,
   "metadata": {},
   "outputs": [],
   "source": [
    "for cat_var in categorical:\n",
    "    analyze_categorical_relationship(df1, \"floor_area_boxcox\", cat_var)"
   ]
  },
  {
   "cell_type": "code",
   "execution_count": null,
   "metadata": {},
   "outputs": [],
   "source": [
    "plt.figure(figsize=(25,6))\n",
    "plt.subplot(1,2,1)\n",
    "sns.scatterplot(data=df1, x='floor_area_sqm', y=\"resale_price\", color='maroon',s=100)\n",
    "\n",
    "plt.subplot(1,2,2)\n",
    "sns.scatterplot(data=df1, x='floor_area_boxcox', y=\"resale_price_boxcox\", color='maroon',s=100)\n",
    "plt.tight_layout()\n",
    "plt.show()"
   ]
  },
  {
   "cell_type": "markdown",
   "metadata": {},
   "source": [
    "<span style=\"color: Chartreuse;font-size:150%\">   &#9784; </span> <span style=\"color: Tomato;font-size: 120%;background-color:\"> **We can oberseve that the top and bottom area data points reduced and formed almost like a linear relationship.**</span>"
   ]
  },
  {
   "cell_type": "markdown",
   "metadata": {},
   "source": [
    "### <span style=\"color:Khaki;\">Relationship Between Categorical Features and Target</span>"
   ]
  },
  {
   "cell_type": "code",
   "execution_count": null,
   "metadata": {},
   "outputs": [],
   "source": [
    "for i in categorical:\n",
    "    plt.figure(figsize=(25, 5))\n",
    "    data=df1.groupby(i,observed=False)['resale_price_boxcox'].median().reset_index().sort_values('resale_price_boxcox')\n",
    "    sns.barplot(data=data, x=data[i], y=data['resale_price_boxcox'],hue=i, order =data[i],legend=False,palette='dark',)\n",
    "    plt.xticks(rotation=25)\n",
    "    plt.title(f'Average resale_price_boxcox by {i}')\n",
    "    plt.show()"
   ]
  },
  {
   "cell_type": "markdown",
   "metadata": {},
   "source": [
    "<span Style=\"color: DodgerBlue;font-size: 130%;\"> &#9830; </span> <span style=\"color: Tomato;font-size: 120%\"> <b> Observations: </b> <br><span Style=\"color: DodgerBlue;font-size: 130%\"> &nbsp;&nbsp;&nbsp;&nbsp; &#9830; </span><span style=\"color: white;font-size: 110%\">I feel that the fluctuations are curved when comparing to the original plots.</span>"
   ]
  },
  {
   "cell_type": "markdown",
   "metadata": {},
   "source": [
    "### <p Style=\"color: Khaki\">Correlation - Pearson's and Spearman's </p>"
   ]
  },
  {
   "cell_type": "code",
   "execution_count": null,
   "metadata": {},
   "outputs": [],
   "source": [
    "cor_col = df1.select_dtypes(include='number')\n",
    "correlation_matrix_pear = cor_col.corr()\n",
    "plt.figure(figsize=(16,4))\n",
    "plt.subplot(1,2,1)\n",
    "sns.heatmap(correlation_matrix_pear,annot=True,fmt='.2f',cmap='coolwarm')\n",
    "plt.title('Pearson Correlation Matrix')\n",
    "\n",
    "\n",
    "cor_col = df1.select_dtypes(include='number')\n",
    "correlation_matrix = cor_col.corr(method='spearman')\n",
    "plt.subplot(1,2,2)\n",
    "sns.heatmap(correlation_matrix,annot=True,fmt='.2f',cmap='coolwarm')\n",
    "plt.title('Spearman Correlation Matrix')\n",
    "plt.show()"
   ]
  },
  {
   "cell_type": "markdown",
   "metadata": {},
   "source": [
    "<span Style=\"color: DodgerBlue;font-size: 130%;\"> &#9830; </span> <span style=\"color: Tomato;font-size: 120%\"> <b> Observations: </b> <br><span Style=\"color: DodgerBlue;font-size: 130%\"> &nbsp;&nbsp;&nbsp;&nbsp; &#9830; </span><span style=\"color: white;font-size: 110%\">We do not see visible differences.</span>"
   ]
  },
  {
   "cell_type": "markdown",
   "metadata": {},
   "source": [
    "## <span style=\"color:Khaki;\"> Encoding Categorical Features:</span> "
   ]
  },
  {
   "cell_type": "code",
   "execution_count": null,
   "metadata": {},
   "outputs": [],
   "source": [
    "town_en = df1.groupby('town',observed=False)['resale_price_boxcox'].median().rank(method='first').reset_index().sort_values('resale_price_boxcox')\n",
    "town_en_list = dict(zip(town_en['town'], town_en['resale_price_boxcox'].astype(int)))\n",
    "print(town_en_list)"
   ]
  },
  {
   "cell_type": "code",
   "execution_count": null,
   "metadata": {},
   "outputs": [],
   "source": [
    "df1['town_en'] = df1['town'].map(town_en_list)\n",
    "df1['town_en'] = df1['town_en'].astype('int8')"
   ]
  },
  {
   "cell_type": "code",
   "execution_count": null,
   "metadata": {},
   "outputs": [],
   "source": [
    "year_en = df1.groupby('year',observed=False)['resale_price_boxcox'].median().rank(method='first').reset_index().sort_values('resale_price_boxcox')\n",
    "year_en_list = dict(zip(year_en['year'], year_en['resale_price_boxcox'].astype(int)))\n",
    "print(year_en_list)"
   ]
  },
  {
   "cell_type": "code",
   "execution_count": null,
   "metadata": {},
   "outputs": [],
   "source": [
    "df1['year_en'] = df1['year'].map(year_en_list)\n",
    "df1['year_en'] = df1['year_en'].astype('int8')"
   ]
  },
  {
   "cell_type": "code",
   "execution_count": null,
   "metadata": {},
   "outputs": [],
   "source": [
    "flat_type_en = df1.groupby('flat_type',observed=False)['resale_price_boxcox'].median().rank(method='first').reset_index().sort_values('resale_price_boxcox')\n",
    "flat_type_en_list = dict(zip(flat_type_en['flat_type'], flat_type_en['resale_price_boxcox'].astype(int)))\n",
    "print(flat_type_en_list)"
   ]
  },
  {
   "cell_type": "code",
   "execution_count": null,
   "metadata": {},
   "outputs": [],
   "source": [
    "df1['flat_type_en'] = df1['flat_type'].map(flat_type_en_list)\n",
    "df1['flat_type_en'] = df1['flat_type_en'].astype('int8')"
   ]
  },
  {
   "cell_type": "code",
   "execution_count": null,
   "metadata": {},
   "outputs": [],
   "source": [
    "flat_model_en = df1.groupby('flat_model',observed=False)['resale_price_boxcox'].median().rank(method='first').reset_index().sort_values('resale_price_boxcox')\n",
    "flat_model_en_list = dict(zip(flat_model_en['flat_model'], flat_model_en['resale_price_boxcox'].astype(int)))\n",
    "print(flat_model_en_list)"
   ]
  },
  {
   "cell_type": "code",
   "execution_count": null,
   "metadata": {},
   "outputs": [],
   "source": [
    "df1['flat_model_en'] = df1['flat_model'].map(flat_model_en_list)\n",
    "df1['flat_model_en'] = df1['flat_model_en'].astype('int8')"
   ]
  },
  {
   "cell_type": "code",
   "execution_count": null,
   "metadata": {},
   "outputs": [],
   "source": [
    "lease_commence_en = df1.groupby('lease_commence_date',observed=False)['resale_price_boxcox'].median().rank(method='first').reset_index().sort_values('resale_price_boxcox')\n",
    "lease_commence_en_list = dict(zip(lease_commence_en['flat_model'], lease_commence_en['resale_price_boxcox'].astype(int)))\n",
    "print(lease_commence_en_list)"
   ]
  },
  {
   "cell_type": "code",
   "execution_count": null,
   "metadata": {},
   "outputs": [],
   "source": []
  },
  {
   "cell_type": "code",
   "execution_count": null,
   "metadata": {},
   "outputs": [],
   "source": [
    "df1.info()"
   ]
  },
  {
   "cell_type": "code",
   "execution_count": null,
   "metadata": {},
   "outputs": [],
   "source": [
    "for i in df1.columns:\n",
    "    if '_en' in i:\n",
    "        print(i)\n",
    "        print(f\"Max - {df1[i].max()}\\n {df1[i].min()}\" )\n",
    "    else:\n",
    "        print('else - ',i )"
   ]
  },
  {
   "cell_type": "code",
   "execution_count": null,
   "metadata": {},
   "outputs": [],
   "source": []
  },
  {
   "cell_type": "code",
   "execution_count": null,
   "metadata": {},
   "outputs": [],
   "source": []
  },
  {
   "cell_type": "code",
   "execution_count": null,
   "metadata": {},
   "outputs": [],
   "source": [
    "df1.sample(10)"
   ]
  },
  {
   "cell_type": "code",
   "execution_count": null,
   "metadata": {},
   "outputs": [],
   "source": []
  },
  {
   "cell_type": "markdown",
   "metadata": {},
   "source": [
    "## <span style=\"color:Khaki;\"> Splitting train and test Data:</span> "
   ]
  },
  {
   "cell_type": "code",
   "execution_count": null,
   "metadata": {},
   "outputs": [],
   "source": [
    "df1.columns"
   ]
  },
  {
   "cell_type": "code",
   "execution_count": null,
   "metadata": {},
   "outputs": [],
   "source": [
    "x_train, x_test, y_train, y_test = train_test_split(df1.drop(['month','price_per_sqm','remaining_lease_year','resale_price_boxcox', ], axis=1), df6[['transformed_status']].values.ravel(), test_size=0.2, random_state=42)"
   ]
  }
 ],
 "metadata": {
  "kernelspec": {
   "display_name": "Python 3 (ipykernel)",
   "language": "python",
   "name": "python3"
  },
  "language_info": {
   "codemirror_mode": {
    "name": "ipython",
    "version": 3
   },
   "file_extension": ".py",
   "mimetype": "text/x-python",
   "name": "python",
   "nbconvert_exporter": "python",
   "pygments_lexer": "ipython3",
   "version": "3.12.4"
  }
 },
 "nbformat": 4,
 "nbformat_minor": 4
}
