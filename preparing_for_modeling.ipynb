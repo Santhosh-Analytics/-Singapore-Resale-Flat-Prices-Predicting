{
 "cells": [
  {
   "cell_type": "markdown",
   "metadata": {},
   "source": [
    "# <b> <div style='padding:25px;background-color:#9B2335;color:white;border-radius:4px;font-size:100%;text-align: center'>Singapore  Resale Flat Prices Prediction<br> </div>"
   ]
  },
  {
   "cell_type": "markdown",
   "metadata": {},
   "source": [
    "## <p style=\"color:Khaki;\"> Importing required libraries</p>"
   ]
  },
  {
   "cell_type": "code",
   "execution_count": 1,
   "metadata": {},
   "outputs": [],
   "source": [
    "import pandas as pd\n",
    "pd.set_option(\"display.precision\", 4)\n",
    "pd.set_option('display.float_format', '{:.4f}'.format)\n",
    "\n",
    "\n",
    "import seaborn as sns\n",
    "import matplotlib.pyplot as plt\n",
    "import numpy as np\n",
    "import math\n",
    "from scipy.stats import pearsonr,kstest, norm, skew,kurtosis, boxcox\n",
    "from statsmodels.formula.api import ols\n",
    "import statsmodels.api as sm\n",
    "import scipy.stats as stats\n",
    "from wordcloud import WordCloud, STOPWORDS\n",
    "from collections import Counter\n",
    "import pickle\n",
    "\n",
    "sns.set_theme(context='notebook', style='white', palette='dark', font='sans-serif', font_scale=1, color_codes=True, rc=None)\n",
    "sns.set_style({'axes.facecolor': 'white','axes.edgecolor': 'white'})\n",
    "\n",
    "color_good = '\\033[32m'   # Dark Green for near-zero skew\n",
    "color_okay = '\\033[92m'   # Light Green for slightly positive or slightly negative skew\n",
    "color_bad = '\\033[91m'    # Maroon for significant skew\n",
    "color_neutral = '\\033[0m' # Reset color\n"
   ]
  },
  {
   "cell_type": "markdown",
   "metadata": {},
   "source": [
    "---\n",
    "title: \"EDA Before Handling Outlier & Skewness\"\n",
    "author: \"Santhoh Kumar\"\n",
    "format:\n",
    "  html:\n",
    "    toc: true\n",
    "    html-math-method: katex\n",
    "    css: styles.css\n",
    "---\n"
   ]
  },
  {
   "cell_type": "markdown",
   "metadata": {},
   "source": [
    "## <span style=\"color:Khaki;\">Reading Transformed Dataset"
   ]
  },
  {
   "cell_type": "code",
   "execution_count": 2,
   "metadata": {},
   "outputs": [],
   "source": [
    "df1=pd.read_feather('data_trans.feather')"
   ]
  },
  {
   "cell_type": "code",
   "execution_count": 3,
   "metadata": {},
   "outputs": [
    {
     "data": {
      "text/html": [
       "<div>\n",
       "<style scoped>\n",
       "    .dataframe tbody tr th:only-of-type {\n",
       "        vertical-align: middle;\n",
       "    }\n",
       "\n",
       "    .dataframe tbody tr th {\n",
       "        vertical-align: top;\n",
       "    }\n",
       "\n",
       "    .dataframe thead th {\n",
       "        text-align: right;\n",
       "    }\n",
       "</style>\n",
       "<table border=\"1\" class=\"dataframe\">\n",
       "  <thead>\n",
       "    <tr style=\"text-align: right;\">\n",
       "      <th></th>\n",
       "      <th>month</th>\n",
       "      <th>town</th>\n",
       "      <th>flat_type</th>\n",
       "      <th>floor_area_sqm</th>\n",
       "      <th>flat_model</th>\n",
       "      <th>lease_commence_date</th>\n",
       "      <th>resale_price</th>\n",
       "      <th>floors</th>\n",
       "      <th>floor_no</th>\n",
       "      <th>year</th>\n",
       "      <th>full_address</th>\n",
       "      <th>price_per_sqm</th>\n",
       "      <th>remaining_lease_year</th>\n",
       "      <th>resale_price_boxcox</th>\n",
       "      <th>floor_area_boxcox</th>\n",
       "    </tr>\n",
       "  </thead>\n",
       "  <tbody>\n",
       "    <tr>\n",
       "      <th>140549</th>\n",
       "      <td>10</td>\n",
       "      <td>Woodlands</td>\n",
       "      <td>4 Room</td>\n",
       "      <td>93.0000</td>\n",
       "      <td>New Generation</td>\n",
       "      <td>1985</td>\n",
       "      <td>275000.0000</td>\n",
       "      <td>3</td>\n",
       "      <td>6</td>\n",
       "      <td>1996</td>\n",
       "      <td>171 Woodlands St 11 Woodlands</td>\n",
       "      <td>2956.9892</td>\n",
       "      <td>88</td>\n",
       "      <td>551.6626</td>\n",
       "      <td>10.8165</td>\n",
       "    </tr>\n",
       "    <tr>\n",
       "      <th>179830</th>\n",
       "      <td>5</td>\n",
       "      <td>Woodlands</td>\n",
       "      <td>Executive</td>\n",
       "      <td>147.0000</td>\n",
       "      <td>Apartment</td>\n",
       "      <td>1996</td>\n",
       "      <td>345000.0000</td>\n",
       "      <td>3</td>\n",
       "      <td>3</td>\n",
       "      <td>2005</td>\n",
       "      <td>358 Woodlands Ave 5 Woodlands</td>\n",
       "      <td>2346.9388</td>\n",
       "      <td>90</td>\n",
       "      <td>609.5873</td>\n",
       "      <td>13.1073</td>\n",
       "    </tr>\n",
       "    <tr>\n",
       "      <th>219920</th>\n",
       "      <td>11</td>\n",
       "      <td>Bedok</td>\n",
       "      <td>3 Room</td>\n",
       "      <td>68.0000</td>\n",
       "      <td>New Generation</td>\n",
       "      <td>1982</td>\n",
       "      <td>139500.0000</td>\n",
       "      <td>3</td>\n",
       "      <td>6</td>\n",
       "      <td>1998</td>\n",
       "      <td>616 Bedok Reservoir Rd Bedok</td>\n",
       "      <td>2051.4706</td>\n",
       "      <td>83</td>\n",
       "      <td>409.0542</td>\n",
       "      <td>9.4462</td>\n",
       "    </tr>\n",
       "    <tr>\n",
       "      <th>334006</th>\n",
       "      <td>8</td>\n",
       "      <td>Yishun</td>\n",
       "      <td>3 Room</td>\n",
       "      <td>74.0000</td>\n",
       "      <td>Model A</td>\n",
       "      <td>1988</td>\n",
       "      <td>328000.0000</td>\n",
       "      <td>3</td>\n",
       "      <td>12</td>\n",
       "      <td>2010</td>\n",
       "      <td>803 Yishun Ring Rd Yishun</td>\n",
       "      <td>4432.4324</td>\n",
       "      <td>77</td>\n",
       "      <td>596.1769</td>\n",
       "      <td>9.8017</td>\n",
       "    </tr>\n",
       "    <tr>\n",
       "      <th>187585</th>\n",
       "      <td>9</td>\n",
       "      <td>Ang Mo Kio</td>\n",
       "      <td>4 Room</td>\n",
       "      <td>92.0000</td>\n",
       "      <td>New Generation</td>\n",
       "      <td>1978</td>\n",
       "      <td>235000.0000</td>\n",
       "      <td>3</td>\n",
       "      <td>9</td>\n",
       "      <td>2005</td>\n",
       "      <td>426 Ang Mo Kio Ave 3 Ang Mo Kio</td>\n",
       "      <td>2554.3478</td>\n",
       "      <td>72</td>\n",
       "      <td>514.7626</td>\n",
       "      <td>10.7667</td>\n",
       "    </tr>\n",
       "    <tr>\n",
       "      <th>21601</th>\n",
       "      <td>2</td>\n",
       "      <td>Ang Mo Kio</td>\n",
       "      <td>3 Room</td>\n",
       "      <td>67.0000</td>\n",
       "      <td>New Generation</td>\n",
       "      <td>1978</td>\n",
       "      <td>288000.0000</td>\n",
       "      <td>3</td>\n",
       "      <td>6</td>\n",
       "      <td>2018</td>\n",
       "      <td>119 Ang Mo Kio Ave 3 Ang Mo Kio</td>\n",
       "      <td>4298.5075</td>\n",
       "      <td>59</td>\n",
       "      <td>562.9982</td>\n",
       "      <td>9.3850</td>\n",
       "    </tr>\n",
       "    <tr>\n",
       "      <th>181651</th>\n",
       "      <td>2</td>\n",
       "      <td>Bedok</td>\n",
       "      <td>Executive</td>\n",
       "      <td>143.0000</td>\n",
       "      <td>Apartment</td>\n",
       "      <td>1993</td>\n",
       "      <td>525000.0000</td>\n",
       "      <td>3</td>\n",
       "      <td>6</td>\n",
       "      <td>1998</td>\n",
       "      <td>94B Bedok Nth Ave 4 Bedok</td>\n",
       "      <td>3671.3287</td>\n",
       "      <td>94</td>\n",
       "      <td>733.2917</td>\n",
       "      <td>12.9588</td>\n",
       "    </tr>\n",
       "    <tr>\n",
       "      <th>119313</th>\n",
       "      <td>5</td>\n",
       "      <td>Marine Parade</td>\n",
       "      <td>5 Room</td>\n",
       "      <td>117.0000</td>\n",
       "      <td>Standard</td>\n",
       "      <td>1977</td>\n",
       "      <td>418000.0000</td>\n",
       "      <td>3</td>\n",
       "      <td>6</td>\n",
       "      <td>2003</td>\n",
       "      <td>73 Marine Dr Marine Parade</td>\n",
       "      <td>3572.6496</td>\n",
       "      <td>73</td>\n",
       "      <td>663.3221</td>\n",
       "      <td>11.9200</td>\n",
       "    </tr>\n",
       "    <tr>\n",
       "      <th>171882</th>\n",
       "      <td>2</td>\n",
       "      <td>Bedok</td>\n",
       "      <td>3 Room</td>\n",
       "      <td>65.0000</td>\n",
       "      <td>Improved</td>\n",
       "      <td>1976</td>\n",
       "      <td>348000.0000</td>\n",
       "      <td>3</td>\n",
       "      <td>3</td>\n",
       "      <td>2024</td>\n",
       "      <td>18 Bedok Sth Rd Bedok</td>\n",
       "      <td>5353.8462</td>\n",
       "      <td>51</td>\n",
       "      <td>611.9151</td>\n",
       "      <td>9.2608</td>\n",
       "    </tr>\n",
       "    <tr>\n",
       "      <th>134040</th>\n",
       "      <td>8</td>\n",
       "      <td>Tampines</td>\n",
       "      <td>5 Room</td>\n",
       "      <td>128.0000</td>\n",
       "      <td>Improved</td>\n",
       "      <td>1989</td>\n",
       "      <td>482000.0000</td>\n",
       "      <td>3</td>\n",
       "      <td>6</td>\n",
       "      <td>1996</td>\n",
       "      <td>141 Simei St 2 Tampines</td>\n",
       "      <td>3765.6250</td>\n",
       "      <td>92</td>\n",
       "      <td>706.2348</td>\n",
       "      <td>12.3763</td>\n",
       "    </tr>\n",
       "  </tbody>\n",
       "</table>\n",
       "</div>"
      ],
      "text/plain": [
       "       month           town  flat_type  floor_area_sqm      flat_model  \\\n",
       "140549    10      Woodlands     4 Room         93.0000  New Generation   \n",
       "179830     5      Woodlands  Executive        147.0000       Apartment   \n",
       "219920    11          Bedok     3 Room         68.0000  New Generation   \n",
       "334006     8         Yishun     3 Room         74.0000         Model A   \n",
       "187585     9     Ang Mo Kio     4 Room         92.0000  New Generation   \n",
       "21601      2     Ang Mo Kio     3 Room         67.0000  New Generation   \n",
       "181651     2          Bedok  Executive        143.0000       Apartment   \n",
       "119313     5  Marine Parade     5 Room        117.0000        Standard   \n",
       "171882     2          Bedok     3 Room         65.0000        Improved   \n",
       "134040     8       Tampines     5 Room        128.0000        Improved   \n",
       "\n",
       "       lease_commence_date  resale_price floors  floor_no  year  \\\n",
       "140549                1985   275000.0000      3         6  1996   \n",
       "179830                1996   345000.0000      3         3  2005   \n",
       "219920                1982   139500.0000      3         6  1998   \n",
       "334006                1988   328000.0000      3        12  2010   \n",
       "187585                1978   235000.0000      3         9  2005   \n",
       "21601                 1978   288000.0000      3         6  2018   \n",
       "181651                1993   525000.0000      3         6  1998   \n",
       "119313                1977   418000.0000      3         6  2003   \n",
       "171882                1976   348000.0000      3         3  2024   \n",
       "134040                1989   482000.0000      3         6  1996   \n",
       "\n",
       "                           full_address  price_per_sqm remaining_lease_year  \\\n",
       "140549    171 Woodlands St 11 Woodlands      2956.9892                   88   \n",
       "179830    358 Woodlands Ave 5 Woodlands      2346.9388                   90   \n",
       "219920     616 Bedok Reservoir Rd Bedok      2051.4706                   83   \n",
       "334006        803 Yishun Ring Rd Yishun      4432.4324                   77   \n",
       "187585  426 Ang Mo Kio Ave 3 Ang Mo Kio      2554.3478                   72   \n",
       "21601   119 Ang Mo Kio Ave 3 Ang Mo Kio      4298.5075                   59   \n",
       "181651        94B Bedok Nth Ave 4 Bedok      3671.3287                   94   \n",
       "119313       73 Marine Dr Marine Parade      3572.6496                   73   \n",
       "171882            18 Bedok Sth Rd Bedok      5353.8462                   51   \n",
       "134040          141 Simei St 2 Tampines      3765.6250                   92   \n",
       "\n",
       "        resale_price_boxcox  floor_area_boxcox  \n",
       "140549             551.6626            10.8165  \n",
       "179830             609.5873            13.1073  \n",
       "219920             409.0542             9.4462  \n",
       "334006             596.1769             9.8017  \n",
       "187585             514.7626            10.7667  \n",
       "21601              562.9982             9.3850  \n",
       "181651             733.2917            12.9588  \n",
       "119313             663.3221            11.9200  \n",
       "171882             611.9151             9.2608  \n",
       "134040             706.2348            12.3763  "
      ]
     },
     "execution_count": 3,
     "metadata": {},
     "output_type": "execute_result"
    }
   ],
   "source": [
    "df1.sample(10)"
   ]
  },
  {
   "cell_type": "code",
   "execution_count": 4,
   "metadata": {},
   "outputs": [
    {
     "name": "stdout",
     "output_type": "stream",
     "text": [
      "<class 'pandas.core.frame.DataFrame'>\n",
      "Index: 927465 entries, 0 to 181261\n",
      "Data columns (total 15 columns):\n",
      " #   Column                Non-Null Count   Dtype   \n",
      "---  ------                --------------   -----   \n",
      " 0   month                 927465 non-null  category\n",
      " 1   town                  927465 non-null  category\n",
      " 2   flat_type             927465 non-null  category\n",
      " 3   floor_area_sqm        927465 non-null  float32 \n",
      " 4   flat_model            927465 non-null  category\n",
      " 5   lease_commence_date   927465 non-null  category\n",
      " 6   resale_price          927465 non-null  float64 \n",
      " 7   floors                927465 non-null  category\n",
      " 8   floor_no              927465 non-null  int8    \n",
      " 9   year                  927465 non-null  category\n",
      " 10  full_address          927465 non-null  category\n",
      " 11  price_per_sqm         927465 non-null  float64 \n",
      " 12  remaining_lease_year  927465 non-null  category\n",
      " 13  resale_price_boxcox   927465 non-null  float64 \n",
      " 14  floor_area_boxcox     927465 non-null  float32 \n",
      "dtypes: category(9), float32(2), float64(3), int8(1)\n",
      "memory usage: 45.4 MB\n"
     ]
    }
   ],
   "source": [
    "df1.info()"
   ]
  },
  {
   "cell_type": "markdown",
   "metadata": {},
   "source": [
    "## <span style=\"color:Khaki;\"> Encoding Categorical Features:</span> "
   ]
  },
  {
   "cell_type": "code",
   "execution_count": 20,
   "metadata": {},
   "outputs": [
    {
     "name": "stdout",
     "output_type": "stream",
     "text": [
      "{'Lim Chu Kang': 1, 'Queenstown': 2, 'Ang Mo Kio': 3, 'Clementi': 4, 'Geylang': 5, 'Bedok': 6, 'Bukit Batok': 7, 'Yishun': 8, 'Toa Payoh': 9, 'Jurong East': 10, 'Central Area': 11, 'Jurong West': 12, 'Kallang/Whampoa': 13, 'Woodlands': 14, 'Hougang': 15, 'Serangoon': 16, 'Marine Parade': 17, 'Bukit Merah': 18, 'Bukit Panjang': 19, 'Tampines': 20, 'Choa Chu Kang': 21, 'Sembawang': 22, 'Pasir Ris': 23, 'Bishan': 24, 'Bukit Timah': 25, 'Sengkang': 26, 'Punggol': 27}\n"
     ]
    }
   ],
   "source": [
    "town_en = df1.groupby('town',observed=False)['resale_price_boxcox'].median().rank(method='first').reset_index().sort_values('resale_price_boxcox')\n",
    "town_en_list = dict(zip(town_en['town'], town_en['resale_price_boxcox'].astype(int)))\n",
    "print(town_en_list)"
   ]
  },
  {
   "cell_type": "code",
   "execution_count": 21,
   "metadata": {},
   "outputs": [],
   "source": [
    "df1['town_en'] = df1['town'].map(town_en_list)\n",
    "df1['town_en'] = df1['town_en'].astype('int8')"
   ]
  },
  {
   "cell_type": "code",
   "execution_count": 22,
   "metadata": {},
   "outputs": [
    {
     "name": "stdout",
     "output_type": "stream",
     "text": [
      "{1990: 1, 1991: 2, 1992: 3, 1993: 4, 1994: 5, 1995: 6, 2002: 7, 2003: 8, 2004: 9, 2001: 10, 2005: 11, 2006: 12, 1999: 13, 2000: 14, 1998: 15, 1996: 16, 2007: 17, 1997: 18, 2008: 19, 2009: 20, 2010: 21, 2019: 22, 2015: 23, 2018: 24, 2011: 25, 2016: 26, 2017: 27, 2014: 28, 2020: 29, 2012: 30, 2013: 31, 2021: 32, 2022: 33, 2023: 34, 2024: 35}\n"
     ]
    }
   ],
   "source": [
    "year_en = df1.groupby('year',observed=False)['resale_price_boxcox'].median().rank(method='first').reset_index().sort_values('resale_price_boxcox')\n",
    "year_en_list = dict(zip(year_en['year'], year_en['resale_price_boxcox'].astype(int)))\n",
    "print(year_en_list)"
   ]
  },
  {
   "cell_type": "code",
   "execution_count": 23,
   "metadata": {},
   "outputs": [],
   "source": [
    "df1['year_en'] = df1['year'].map(year_en_list)\n",
    "df1['year_en'] = df1['year_en'].astype('int8')"
   ]
  },
  {
   "cell_type": "code",
   "execution_count": 24,
   "metadata": {},
   "outputs": [
    {
     "name": "stdout",
     "output_type": "stream",
     "text": [
      "{'1 Room': 1, '2 Room': 2, '3 Room': 3, '4 Room': 4, '5 Room': 5, 'Executive': 6, 'Multi Generation': 7}\n"
     ]
    }
   ],
   "source": [
    "flat_type_en = df1.groupby('flat_type',observed=False)['resale_price_boxcox'].median().rank(method='first').reset_index().sort_values('resale_price_boxcox')\n",
    "flat_type_en_list = dict(zip(flat_type_en['flat_type'], flat_type_en['resale_price_boxcox'].astype(int)))\n",
    "print(flat_type_en_list)"
   ]
  },
  {
   "cell_type": "code",
   "execution_count": 25,
   "metadata": {},
   "outputs": [],
   "source": [
    "df1['flat_type_en'] = df1['flat_type'].map(flat_type_en_list)\n",
    "df1['flat_type_en'] = df1['flat_type_en'].astype('int8')"
   ]
  },
  {
   "cell_type": "code",
   "execution_count": 26,
   "metadata": {},
   "outputs": [
    {
     "name": "stdout",
     "output_type": "stream",
     "text": [
      "{'New Generation': 1, 'Standard': 2, 'Simplified': 3, 'Model A2': 4, '2-Room': 5, 'Model A': 6, 'Improved': 7, 'Improved-Maisonette': 8, 'Model A-Maisonette': 9, 'Premium Apartment': 10, 'Adjoined Flat': 11, 'Maisonette': 12, 'Apartment': 13, 'Terrace': 14, 'Multi Generation': 15, 'Premium Maisonette': 16, '3Gen': 17, 'Dbss': 18, 'Premium Apartment Loft': 19, 'Type S1': 20, 'Type S2': 21}\n"
     ]
    }
   ],
   "source": [
    "flat_model_en = df1.groupby('flat_model',observed=False)['resale_price_boxcox'].median().rank(method='first').reset_index().sort_values('resale_price_boxcox')\n",
    "flat_model_en_list = dict(zip(flat_model_en['flat_model'], flat_model_en['resale_price_boxcox'].astype(int)))\n",
    "print(flat_model_en_list)"
   ]
  },
  {
   "cell_type": "code",
   "execution_count": 27,
   "metadata": {},
   "outputs": [],
   "source": [
    "df1['flat_model_en'] = df1['flat_model'].map(flat_model_en_list)\n",
    "df1['flat_model_en'] = df1['flat_model_en'].astype('int8')"
   ]
  },
  {
   "cell_type": "code",
   "execution_count": 28,
   "metadata": {},
   "outputs": [
    {
     "name": "stdout",
     "output_type": "stream",
     "text": [
      "{1969: 1, 1971: 2, 1967: 3, 1968: 4, 1973: 5, 1970: 6, 1972: 7, 1974: 8, 1977: 9, 1980: 10, 1983: 11, 1975: 12, 1981: 13, 1976: 14, 1978: 15, 1979: 16, 1966: 17, 1982: 18, 1985: 19, 1984: 20, 1986: 21, 1987: 22, 1988: 23, 1990: 24, 1989: 25, 1991: 26, 1997: 27, 1998: 28, 1996: 29, 1999: 30, 1994: 31, 1993: 32, 2000: 33, 1995: 34, 1992: 35, 2001: 36, 2002: 37, 2003: 38, 2004: 39, 2012: 40, 2014: 41, 2015: 42, 2005: 43, 2007: 44, 2010: 45, 2013: 46, 2008: 47, 2016: 48, 2009: 49, 2017: 50, 2018: 51, 2019: 52, 2006: 53, 2020: 54, 2011: 55}\n"
     ]
    }
   ],
   "source": [
    "lease_commence_en = df1.groupby('lease_commence_date',observed=False)['resale_price_boxcox'].median().rank(method='first').reset_index().sort_values('resale_price_boxcox')\n",
    "lease_commence_en_list = dict(zip(lease_commence_en['lease_commence_date'], lease_commence_en['resale_price_boxcox'].astype(int)))\n",
    "print(lease_commence_en_list)"
   ]
  },
  {
   "cell_type": "code",
   "execution_count": 7,
   "metadata": {},
   "outputs": [],
   "source": [
    "df1['lease_commence_en'] = df1['lease_commence_date'].map(lease_commence_en_list)\n",
    "df1['lease_commence_en'] = df1['lease_commence_en'].astype('int8')"
   ]
  },
  {
   "cell_type": "code",
   "execution_count": 9,
   "metadata": {},
   "outputs": [
    {
     "name": "stdout",
     "output_type": "stream",
     "text": [
      "{3: 1, 5: 2}\n"
     ]
    }
   ],
   "source": [
    "floors_en = df1.groupby('floors',observed=False)['resale_price_boxcox'].median().rank(method='first').reset_index().sort_values('resale_price_boxcox')\n",
    "floors_en_list = dict(zip(floors_en['floors'], floors_en['resale_price_boxcox'].astype(int)))\n",
    "print(floors_en_list)"
   ]
  },
  {
   "cell_type": "code",
   "execution_count": 10,
   "metadata": {},
   "outputs": [],
   "source": [
    "df1['floors_en'] = df1['floors'].map(floors_en_list)\n",
    "df1['floors_en'] = df1['floors_en'].astype('int8')"
   ]
  },
  {
   "cell_type": "code",
   "execution_count": 14,
   "metadata": {},
   "outputs": [
    {
     "name": "stdout",
     "output_type": "stream",
     "text": [
      "{3: 1, 6: 2, 9: 3, 12: 4, 15: 5, 5: 6, 18: 7, 10: 8, 21: 9, 24: 10, 20: 11, 27: 12, 25: 13, 35: 14, 40: 15, 30: 16, 33: 17, 36: 18, 39: 19, 42: 20, 45: 21, 48: 22, 51: 23}\n"
     ]
    }
   ],
   "source": [
    "floor_no_en = df1.groupby('floor_no',observed=False)['resale_price_boxcox'].median().rank(method='first').reset_index().sort_values('resale_price_boxcox')\n",
    "floor_no_en_list = dict(zip(floor_no_en['floor_no'], floor_no_en['resale_price_boxcox'].astype(int)))\n",
    "print(floor_no_en_list)"
   ]
  },
  {
   "cell_type": "code",
   "execution_count": 15,
   "metadata": {},
   "outputs": [],
   "source": [
    "df1['floor_no_en'] = df1['floor_no'].map(floor_no_en_list)\n",
    "df1['floor_no_en'] = df1['floor_no_en'].astype('int8')"
   ]
  },
  {
   "cell_type": "code",
   "execution_count": 16,
   "metadata": {},
   "outputs": [
    {
     "name": "stdout",
     "output_type": "stream",
     "text": [
      "{81: 1, 82: 2, 83: 3, 80: 4, 79: 5, 84: 6, 78: 7, 85: 8, 77: 9, 76: 10, 86: 11, 75: 12, 87: 13, 88: 14, 48: 15, 74: 16, 89: 17, 49: 18, 90: 19, 47: 20, 72: 21, 73: 22, 71: 23, 45: 24, 46: 25, 70: 26, 91: 27, 44: 28, 43: 29, 50: 30, 69: 31, 92: 32, 93: 33, 68: 34, 41: 35, 42: 36, 51: 37, 67: 38, 96: 39, 52: 40, 58: 41, 66: 42, 94: 43, 59: 44, 95: 45, 57: 46, 100: 47, 65: 48, 101: 49, 53: 50, 56: 51, 64: 52, 54: 53, 55: 54, 98: 55, 60: 56, 63: 57, 62: 58, 61: 59, 97: 60, 99: 61}\n"
     ]
    }
   ],
   "source": [
    "remaining_lease_year_en = df1.groupby('remaining_lease_year',observed=False)['resale_price_boxcox'].median().rank(method='first').reset_index().sort_values('resale_price_boxcox')\n",
    "remaining_lease_year_en_list = dict(zip(remaining_lease_year_en['remaining_lease_year'], remaining_lease_year_en['resale_price_boxcox'].astype(int)))\n",
    "print(remaining_lease_year_en_list)"
   ]
  },
  {
   "cell_type": "code",
   "execution_count": 17,
   "metadata": {},
   "outputs": [],
   "source": [
    "df1['remaining_lease_year_en'] = df1['remaining_lease_year'].map(remaining_lease_year_en_list)\n",
    "df1['remaining_lease_year_en'] = df1['remaining_lease_year_en'].astype('int8')"
   ]
  },
  {
   "cell_type": "code",
   "execution_count": 29,
   "metadata": {},
   "outputs": [
    {
     "data": {
      "text/plain": [
       "Index(['month', 'town', 'flat_type', 'floor_area_sqm', 'flat_model',\n",
       "       'lease_commence_date', 'resale_price', 'floors', 'floor_no', 'year',\n",
       "       'full_address', 'price_per_sqm', 'remaining_lease_year',\n",
       "       'resale_price_boxcox', 'floor_area_boxcox', 'lease_commence_en',\n",
       "       'floors_en', 'floor_no_en', 'remaining_lease_year_en', 'town_en',\n",
       "       'year_en', 'flat_type_en', 'flat_model_en'],\n",
       "      dtype='object')"
      ]
     },
     "execution_count": 29,
     "metadata": {},
     "output_type": "execute_result"
    }
   ],
   "source": [
    "df1.columns"
   ]
  },
  {
   "cell_type": "code",
   "execution_count": 30,
   "metadata": {},
   "outputs": [
    {
     "name": "stdout",
     "output_type": "stream",
     "text": [
      "<class 'pandas.core.frame.DataFrame'>\n",
      "Index: 927465 entries, 0 to 181261\n",
      "Data columns (total 23 columns):\n",
      " #   Column                   Non-Null Count   Dtype   \n",
      "---  ------                   --------------   -----   \n",
      " 0   month                    927465 non-null  category\n",
      " 1   town                     927465 non-null  category\n",
      " 2   flat_type                927465 non-null  category\n",
      " 3   floor_area_sqm           927465 non-null  float32 \n",
      " 4   flat_model               927465 non-null  category\n",
      " 5   lease_commence_date      927465 non-null  category\n",
      " 6   resale_price             927465 non-null  float64 \n",
      " 7   floors                   927465 non-null  category\n",
      " 8   floor_no                 927465 non-null  int8    \n",
      " 9   year                     927465 non-null  category\n",
      " 10  full_address             927465 non-null  category\n",
      " 11  price_per_sqm            927465 non-null  float64 \n",
      " 12  remaining_lease_year     927465 non-null  category\n",
      " 13  resale_price_boxcox      927465 non-null  float64 \n",
      " 14  floor_area_boxcox        927465 non-null  float32 \n",
      " 15  lease_commence_en        927465 non-null  int8    \n",
      " 16  floors_en                927465 non-null  int8    \n",
      " 17  floor_no_en              927465 non-null  int8    \n",
      " 18  remaining_lease_year_en  927465 non-null  int8    \n",
      " 19  town_en                  927465 non-null  int8    \n",
      " 20  year_en                  927465 non-null  int8    \n",
      " 21  flat_type_en             927465 non-null  int8    \n",
      " 22  flat_model_en            927465 non-null  int8    \n",
      "dtypes: category(9), float32(2), float64(3), int8(9)\n",
      "memory usage: 52.5 MB\n"
     ]
    }
   ],
   "source": [
    "df1.info()"
   ]
  },
  {
   "cell_type": "code",
   "execution_count": null,
   "metadata": {},
   "outputs": [],
   "source": []
  },
  {
   "cell_type": "code",
   "execution_count": null,
   "metadata": {},
   "outputs": [],
   "source": [
    "df1.sample(10)"
   ]
  },
  {
   "cell_type": "code",
   "execution_count": null,
   "metadata": {},
   "outputs": [],
   "source": []
  },
  {
   "cell_type": "markdown",
   "metadata": {},
   "source": [
    "## <span style=\"color:Khaki;\"> Splitting train and test Data:</span> "
   ]
  },
  {
   "cell_type": "code",
   "execution_count": null,
   "metadata": {},
   "outputs": [],
   "source": [
    "df1.columns"
   ]
  },
  {
   "cell_type": "code",
   "execution_count": null,
   "metadata": {},
   "outputs": [],
   "source": [
    "x_train, x_test, y_train, y_test = train_test_split(df1.drop(['month','price_per_sqm','remaining_lease_year','resale_price_boxcox', ], axis=1), df6[['transformed_status']].values.ravel(), test_size=0.2, random_state=42)"
   ]
  }
 ],
 "metadata": {
  "kernelspec": {
   "display_name": "Python 3 (ipykernel)",
   "language": "python",
   "name": "python3"
  },
  "language_info": {
   "codemirror_mode": {
    "name": "ipython",
    "version": 3
   },
   "file_extension": ".py",
   "mimetype": "text/x-python",
   "name": "python",
   "nbconvert_exporter": "python",
   "pygments_lexer": "ipython3",
   "version": "3.10.12"
  }
 },
 "nbformat": 4,
 "nbformat_minor": 4
}
